{
 "cells": [
  {
   "cell_type": "code",
   "execution_count": 1,
   "metadata": {},
   "outputs": [],
   "source": [
    "from transformers import BertTokenizer, BertModel\n",
    "import torch\n",
    "import numpy as np\n",
    "from nltk.tokenize import sent_tokenize\n",
    "from operator import itemgetter \n",
    "import pickle\n",
    "import warnings\n",
    "import tqdm\n",
    "import random\n",
    "warnings.filterwarnings(\"ignore\")"
   ]
  },
  {
   "cell_type": "markdown",
   "metadata": {},
   "source": [
    "# Preparation"
   ]
  },
  {
   "cell_type": "code",
   "execution_count": 3,
   "metadata": {},
   "outputs": [],
   "source": [
    "class SentenceDatabase:\n",
    "    \n",
    "    def __init__(self, tokenizer : object, filename : str = None, threshold :int = 100):\n",
    "        self.tokenizer = tokenizer\n",
    "        self.threshold = threshold\n",
    "        \n",
    "        if filename:\n",
    "            self.sentences = sent_tokenize(open(filename, \"r\").read().replace(\"\\n\",\"\"))\n",
    "            self.sentences = [i.lower() for i in self.sentences]\n",
    "            self.database = self.index_words()\n",
    "            \n",
    "            with open('datasets/News/sentences.pickle', 'wb') as handle:\n",
    "                pickle.dump(self.sentences, handle, protocol=pickle.HIGHEST_PROTOCOL)\n",
    "                \n",
    "            with open('datasets/News/database.pickle', 'wb') as handle:\n",
    "                pickle.dump(self.database, handle, protocol=pickle.HIGHEST_PROTOCOL)\n",
    "        else:\n",
    "            with open('datasets/News/sentences.pickle', 'rb') as handle:\n",
    "                self.sentences = pickle.load(handle)\n",
    "                self.sentences = [i.lower() for i in self.sentences]\n",
    "            \n",
    "            with open('datasets/News/database.pickle', 'rb') as handle:\n",
    "                self.database = pickle.load(handle)\n",
    "        \n",
    "    def index_words(self):\n",
    "        database = {}\n",
    "        for i, sentence in enumerate(self.sentences):\n",
    "            if len(sentence)< self.threshold:\n",
    "                tokenized_sentence = self.tokenizer.tokenize(sentence)\n",
    "                for j, token in enumerate(tokenized_sentence):\n",
    "                    if token not in database:\n",
    "                        database[token] = []\n",
    "                    database[token].append(i)\n",
    "        return database\n",
    "    \n",
    "    \n",
    "    # The only important function            \n",
    "    def get_sentences(self, word: str):\n",
    "        token = self.tokenizer.tokenize(word)[0]\n",
    "        return itemgetter(*self.database[token])(self.sentences)\n",
    "    \n",
    "def get_all_words(tokenizer : object):\n",
    "    train = open(\"datasets/Processed/train.txt\", \"r\").read().split(\"\\n\")\n",
    "    train = \" \".join([x.split(\" \")[0].lower() for x in train if x])\n",
    "    words = tokenizer.tokenize(train)\n",
    "    test = open(\"datasets/Processed/test.txt\", \"r\").read().split(\"\\n\")\n",
    "    test = \" \".join([x.split(\" \")[0].lower() for x in test if x])\n",
    "    words.extend(tokenizer.tokenize(test))\n",
    "    valid = open(\"datasets/Processed/validate.txt\", \"r\").read().split(\"\\n\")\n",
    "    valid = \" \".join([x.split(\" \")[0].lower() for x in valid if x])\n",
    "    words.extend(tokenizer.tokenize(valid))\n",
    "    return words\n",
    "\n",
    "# Here we load out tokenizer. Because we are using Bert we need to use BertTokenizer. \n",
    "tokenizer = BertTokenizer.from_pretrained('bert-base-uncased')"
   ]
  },
  {
   "cell_type": "code",
   "execution_count": 13,
   "metadata": {},
   "outputs": [],
   "source": [
    "# Here we load a sentence database. You can query this database by calling its function get_sentences\n",
    "# and by passing it a string. The function will return all sentences in which that string occured.\n",
    "SentenceDB = SentenceDatabase(tokenizer)"
   ]
  },
  {
   "cell_type": "code",
   "execution_count": 4,
   "metadata": {},
   "outputs": [],
   "source": [
    "# Here we get all the words that are contained in our train, test and validation set so we can build a dictionary.\n",
    "words = get_all_words(tokenizer)"
   ]
  },
  {
   "cell_type": "code",
   "execution_count": 6,
   "metadata": {},
   "outputs": [],
   "source": [
    "class Vocab:\n",
    "    def __init__(self, values, max_size = -1, min_freq = 0, vocabulary = {}):\n",
    "        self.vocabulary = vocabulary\n",
    "        self.create_vocab(values, max_size, min_freq)\n",
    "        \n",
    "    def create_vocab(self, values, max_size, min_freq):\n",
    "        vcounter = {}\n",
    "        \n",
    "        for i in values:\n",
    "            if i not in vcounter:\n",
    "                vcounter[i] = 0\n",
    "            vcounter[i] += 1\n",
    "        \n",
    "        for k, v in sorted(vcounter.items(), key=lambda item: item[1], reverse=True):\n",
    "            key = len(self.vocabulary)\n",
    "            if max_size!=key:\n",
    "                if min_freq!=0:\n",
    "                    if v>min_freq:\n",
    "                        self.vocabulary[k] = key\n",
    "                else:\n",
    "                    self.vocabulary[k] = key\n",
    "        \n",
    "    def tokenize(self, text):\n",
    "        encoded = []\n",
    "        for i in text:\n",
    "            if i in self.vocabulary:\n",
    "                encoded.append(self.vocabulary[i])\n",
    "            else:\n",
    "                encoded.append(self.vocabulary[\"<UNK>\"])\n",
    "        encoded = torch.tensor(encoded)\n",
    "        return encoded\n",
    "\n",
    "# This counts the frequencies of the words and constructs a dictionary. In short we use this class to get\n",
    "# all the distinct words that appear in our train, test and valid set ordered by frequency.\n",
    "vocab = Vocab(words, vocabulary = {})"
   ]
  },
  {
   "cell_type": "code",
   "execution_count": 6,
   "metadata": {},
   "outputs": [],
   "source": [
    "# This class converts a list of sentences into bert embeddings.\n",
    "class BertBatchEmbedding:\n",
    "    def __init__(self):\n",
    "        self.model = BertModel.from_pretrained('bert-base-uncased', output_hidden_states=True).eval().cuda()\n",
    "        self.tokenizer = BertTokenizer.from_pretrained('bert-base-uncased')\n",
    "    \n",
    "    def transform(self, sentences : list):\n",
    "        padded_sequence = self.tokenizer.batch_encode_plus(sentences, return_tensors=\"pt\", pad_to_max_length=True)\n",
    "        with torch.no_grad():\n",
    "            out = self.model(padded_sequence['input_ids'].cuda(), padded_sequence[\"attention_mask\"].cuda())\n",
    "        hidden_states = out[2]\n",
    "        token_embeddings = torch.stack(hidden_states, dim=0)\n",
    "        return token_embeddings.permute(1,2,0,3)\n",
    "    \n",
    "bertbatch = BertBatchEmbedding()"
   ]
  },
  {
   "cell_type": "markdown",
   "metadata": {},
   "source": [
    "# Creation of embeddings"
   ]
  },
  {
   "cell_type": "code",
   "execution_count": 7,
   "metadata": {},
   "outputs": [],
   "source": [
    "def get_vector(search, tokenized_sentences, embeddings):\n",
    "    counter = 0\n",
    "    vector = None\n",
    "    for i, tokenized_sentence in enumerate(tokenized_sentences):\n",
    "        for j, token in enumerate(tokenized_sentence):\n",
    "            if token==search:\n",
    "                if vector==None:\n",
    "                    vector = torch.flatten(embeddings[i,:][j,:])\n",
    "                else:\n",
    "                    vector += torch.flatten(embeddings[i,:][j,:])\n",
    "                counter += 1\n",
    "\n",
    "        if counter==100:\n",
    "            break\n",
    "    return vector/counter\n",
    "\n",
    "\n",
    "def write(token_embeddings, missing):\n",
    "    with open('datasets/embeddings/embeddings.pickle', 'wb') as handle:\n",
    "        pickle.dump(token_embeddings, handle, protocol=pickle.HIGHEST_PROTOCOL)\n",
    "        \n",
    "    with open('datasets/embeddings/missing.pickle', 'wb') as handle:\n",
    "        pickle.dump(missing, handle, protocol=pickle.HIGHEST_PROTOCOL)"
   ]
  },
  {
   "cell_type": "code",
   "execution_count": 3,
   "metadata": {},
   "outputs": [],
   "source": [
    "with open('datasets/embeddings/embeddings.pickle', 'rb') as handle:\n",
    "    token_embeddings = pickle.load(handle)\n",
    "    \n",
    "with open('datasets/embeddings/missing.pickle', 'rb') as handle:\n",
    "    missing = pickle.load(handle)"
   ]
  },
  {
   "cell_type": "code",
   "execution_count": 33,
   "metadata": {},
   "outputs": [
    {
     "data": {
      "text/plain": [
       "9984"
      ]
     },
     "execution_count": 33,
     "metadata": {},
     "output_type": "execute_result"
    }
   ],
   "source": [
    "len(token_embeddings[\"the\"])"
   ]
  },
  {
   "cell_type": "code",
   "execution_count": 11,
   "metadata": {
    "scrolled": true
   },
   "outputs": [
    {
     "name": "stderr",
     "output_type": "stream",
     "text": [
      " 27%|██▋       | 4334/15843 [00:00<00:00, 29634.72it/s]"
     ]
    },
    {
     "name": "stdout",
     "output_type": "stream",
     "text": [
      "-\n",
      "'\n",
      "\"\n",
      "–\n",
      "/\n",
      "prelate\n",
      "dioceses\n",
      "ecclesiastical\n"
     ]
    },
    {
     "name": "stderr",
     "output_type": "stream",
     "text": [
      " 40%|████      | 6354/15843 [00:00<00:00, 14219.29it/s]"
     ]
    },
    {
     "name": "stdout",
     "output_type": "stream",
     "text": [
      "pietro\n",
      "theologians\n",
      "amalgamation\n"
     ]
    },
    {
     "name": "stderr",
     "output_type": "stream",
     "text": [
      " 56%|█████▌    | 8841/15843 [1:02:19<3:56:51,  2.03s/it]"
     ]
    },
    {
     "name": "stdout",
     "output_type": "stream",
     "text": [
      "utc\n"
     ]
    },
    {
     "name": "stderr",
     "output_type": "stream",
     "text": [
      " 61%|██████▏   | 9711/15843 [1:31:51<3:18:44,  1.94s/it]"
     ]
    },
    {
     "name": "stdout",
     "output_type": "stream",
     "text": [
      "nottinghamshire\n"
     ]
    },
    {
     "name": "stderr",
     "output_type": "stream",
     "text": [
      " 63%|██████▎   | 10025/15843 [1:41:53<3:25:11,  2.12s/it]"
     ]
    },
    {
     "name": "stdout",
     "output_type": "stream",
     "text": [
      "vincenzo\n"
     ]
    },
    {
     "name": "stderr",
     "output_type": "stream",
     "text": [
      " 69%|██████▉   | 10926/15843 [2:11:05<2:08:29,  1.57s/it]"
     ]
    },
    {
     "name": "stdout",
     "output_type": "stream",
     "text": [
      "html\n"
     ]
    },
    {
     "name": "stderr",
     "output_type": "stream",
     "text": [
      " 72%|███████▏  | 11329/15843 [2:23:16<1:57:27,  1.56s/it]"
     ]
    },
    {
     "name": "stdout",
     "output_type": "stream",
     "text": [
      "thence\n"
     ]
    },
    {
     "name": "stderr",
     "output_type": "stream",
     "text": [
      " 75%|███████▌  | 11959/15843 [2:42:03<2:23:48,  2.22s/it]"
     ]
    },
    {
     "name": "stdout",
     "output_type": "stream",
     "text": [
      "juris\n"
     ]
    },
    {
     "name": "stderr",
     "output_type": "stream",
     "text": [
      " 77%|███████▋  | 12176/15843 [2:48:23<2:35:54,  2.55s/it]"
     ]
    },
    {
     "name": "stdout",
     "output_type": "stream",
     "text": [
      "hz\n"
     ]
    },
    {
     "name": "stderr",
     "output_type": "stream",
     "text": [
      " 77%|███████▋  | 12234/15843 [2:50:14<1:34:09,  1.57s/it]"
     ]
    },
    {
     "name": "stdout",
     "output_type": "stream",
     "text": [
      "fledged\n"
     ]
    },
    {
     "name": "stderr",
     "output_type": "stream",
     "text": [
      " 79%|███████▊  | 12452/15843 [2:56:30<1:15:47,  1.34s/it]"
     ]
    },
    {
     "name": "stdout",
     "output_type": "stream",
     "text": [
      "genoa\n"
     ]
    },
    {
     "name": "stderr",
     "output_type": "stream",
     "text": [
      " 79%|███████▉  | 12515/15843 [2:58:18<2:09:31,  2.34s/it]"
     ]
    },
    {
     "name": "stdout",
     "output_type": "stream",
     "text": [
      "abbess\n"
     ]
    },
    {
     "name": "stderr",
     "output_type": "stream",
     "text": [
      " 79%|███████▉  | 12530/15843 [2:58:35<47:31,  1.16it/s]  "
     ]
    },
    {
     "name": "stdout",
     "output_type": "stream",
     "text": [
      "berber\n"
     ]
    },
    {
     "name": "stderr",
     "output_type": "stream",
     "text": [
      " 81%|████████▏ | 12885/15843 [3:08:59<1:10:53,  1.44s/it]"
     ]
    },
    {
     "name": "stdout",
     "output_type": "stream",
     "text": [
      "gunners\n"
     ]
    },
    {
     "name": "stderr",
     "output_type": "stream",
     "text": [
      " 82%|████████▏ | 12969/15843 [3:10:52<49:12,  1.03s/it]  "
     ]
    },
    {
     "name": "stdout",
     "output_type": "stream",
     "text": [
      "shrewsbury\n"
     ]
    },
    {
     "name": "stderr",
     "output_type": "stream",
     "text": [
      " 83%|████████▎ | 13152/15843 [3:15:50<52:12,  1.16s/it]  "
     ]
    },
    {
     "name": "stdout",
     "output_type": "stream",
     "text": [
      "successively\n"
     ]
    },
    {
     "name": "stderr",
     "output_type": "stream",
     "text": [
      " 83%|████████▎ | 13171/15843 [3:16:15<50:55,  1.14s/it]  "
     ]
    },
    {
     "name": "stdout",
     "output_type": "stream",
     "text": [
      "johnstone\n"
     ]
    },
    {
     "name": "stderr",
     "output_type": "stream",
     "text": [
      " 83%|████████▎ | 13191/15843 [3:16:51<1:00:46,  1.37s/it]"
     ]
    },
    {
     "name": "stdout",
     "output_type": "stream",
     "text": [
      "magdalene\n"
     ]
    },
    {
     "name": "stderr",
     "output_type": "stream",
     "text": [
      " 84%|████████▍ | 13272/15843 [3:19:19<50:03,  1.17s/it]  "
     ]
    },
    {
     "name": "stdout",
     "output_type": "stream",
     "text": [
      "1658\n"
     ]
    },
    {
     "name": "stderr",
     "output_type": "stream",
     "text": [
      " 85%|████████▍ | 13460/15843 [3:24:29<1:14:11,  1.87s/it]"
     ]
    },
    {
     "name": "stdout",
     "output_type": "stream",
     "text": [
      "gmbh\n"
     ]
    },
    {
     "name": "stderr",
     "output_type": "stream",
     "text": [
      " 85%|████████▌ | 13531/15843 [3:26:40<48:26,  1.26s/it]  "
     ]
    },
    {
     "name": "stdout",
     "output_type": "stream",
     "text": [
      "1570\n"
     ]
    },
    {
     "name": "stderr",
     "output_type": "stream",
     "text": [
      " 86%|████████▌ | 13557/15843 [3:27:26<1:34:15,  2.47s/it]"
     ]
    },
    {
     "name": "stdout",
     "output_type": "stream",
     "text": [
      "mongol\n"
     ]
    },
    {
     "name": "stderr",
     "output_type": "stream",
     "text": [
      " 86%|████████▌ | 13621/15843 [3:29:15<19:55,  1.86it/s]  "
     ]
    },
    {
     "name": "stdout",
     "output_type": "stream",
     "text": [
      "aachen\n"
     ]
    },
    {
     "name": "stderr",
     "output_type": "stream",
     "text": [
      " 87%|████████▋ | 13808/15843 [3:33:54<41:22,  1.22s/it]  "
     ]
    },
    {
     "name": "stdout",
     "output_type": "stream",
     "text": [
      "antonia\n"
     ]
    },
    {
     "name": "stderr",
     "output_type": "stream",
     "text": [
      " 88%|████████▊ | 14021/15843 [3:39:47<45:49,  1.51s/it]  "
     ]
    },
    {
     "name": "stdout",
     "output_type": "stream",
     "text": [
      "saxons\n"
     ]
    },
    {
     "name": "stderr",
     "output_type": "stream",
     "text": [
      " 91%|█████████ | 14354/15843 [3:48:39<51:54,  2.09s/it]  "
     ]
    },
    {
     "name": "stdout",
     "output_type": "stream",
     "text": [
      "1757\n"
     ]
    },
    {
     "name": "stderr",
     "output_type": "stream",
     "text": [
      "\r",
      " 91%|█████████ | 14356/15843 [3:48:40<39:24,  1.59s/it]"
     ]
    },
    {
     "name": "stdout",
     "output_type": "stream",
     "text": [
      "1764\n"
     ]
    },
    {
     "name": "stderr",
     "output_type": "stream",
     "text": [
      " 91%|█████████ | 14362/15843 [3:48:47<29:44,  1.21s/it]"
     ]
    },
    {
     "name": "stdout",
     "output_type": "stream",
     "text": [
      "ptolemy\n"
     ]
    },
    {
     "name": "stderr",
     "output_type": "stream",
     "text": [
      " 92%|█████████▏| 14507/15843 [3:52:38<1:06:31,  2.99s/it]"
     ]
    },
    {
     "name": "stdout",
     "output_type": "stream",
     "text": [
      "tq\n"
     ]
    },
    {
     "name": "stderr",
     "output_type": "stream",
     "text": [
      " 92%|█████████▏| 14518/15843 [3:52:58<45:15,  2.05s/it]  "
     ]
    },
    {
     "name": "stdout",
     "output_type": "stream",
     "text": [
      "administratively\n"
     ]
    },
    {
     "name": "stderr",
     "output_type": "stream",
     "text": [
      " 94%|█████████▍| 14934/15843 [4:05:20<33:29,  2.21s/it]  "
     ]
    },
    {
     "name": "stdout",
     "output_type": "stream",
     "text": [
      "rochdale\n"
     ]
    },
    {
     "name": "stderr",
     "output_type": "stream",
     "text": [
      " 95%|█████████▌| 15091/15843 [4:09:31<15:20,  1.22s/it]"
     ]
    },
    {
     "name": "stdout",
     "output_type": "stream",
     "text": [
      "terminates\n"
     ]
    },
    {
     "name": "stderr",
     "output_type": "stream",
     "text": [
      " 96%|█████████▋| 15252/15843 [4:14:30<17:48,  1.81s/it]"
     ]
    },
    {
     "name": "stdout",
     "output_type": "stream",
     "text": [
      "computed\n"
     ]
    },
    {
     "name": "stderr",
     "output_type": "stream",
     "text": [
      " 97%|█████████▋| 15302/15843 [4:16:09<12:25,  1.38s/it]"
     ]
    },
    {
     "name": "stdout",
     "output_type": "stream",
     "text": [
      "צ\n"
     ]
    },
    {
     "name": "stderr",
     "output_type": "stream",
     "text": [
      " 98%|█████████▊| 15486/15843 [4:21:14<13:51,  2.33s/it]"
     ]
    },
    {
     "name": "stdout",
     "output_type": "stream",
     "text": [
      "vertices\n"
     ]
    },
    {
     "name": "stderr",
     "output_type": "stream",
     "text": [
      " 98%|█████████▊| 15599/15843 [4:24:21<06:03,  1.49s/it]"
     ]
    },
    {
     "name": "stdout",
     "output_type": "stream",
     "text": [
      "cyrillic\n"
     ]
    },
    {
     "name": "stderr",
     "output_type": "stream",
     "text": [
      " 99%|█████████▉| 15662/15843 [4:26:17<02:29,  1.21it/s]"
     ]
    },
    {
     "name": "stdout",
     "output_type": "stream",
     "text": [
      "amalgamated\n",
      "navarre\n"
     ]
    },
    {
     "name": "stderr",
     "output_type": "stream",
     "text": [
      "100%|██████████| 15843/15843 [4:31:15<00:00,  1.03s/it]\n"
     ]
    }
   ],
   "source": [
    "import time\n",
    "\n",
    "counter = 0\n",
    "for word in tqdm.tqdm(vocab.vocabulary):\n",
    "    if word not in token_embeddings:\n",
    "        try:\n",
    "            sentences = SentenceDB.get_sentences(word)\n",
    "            if len(sentences)>100:\n",
    "                random.shuffle(list(sentences))\n",
    "                sentences = sentences[:100]\n",
    "            if sentences!=[]:\n",
    "                search = tokenizer.encode(word)[1]\n",
    "                embeddings = bertbatch.transform(sentences)\n",
    "                tokenized_sentences = tokenizer.batch_encode_plus(sentences)\n",
    "                vector = get_vector(search, tokenized_sentences[\"input_ids\"], embeddings)\n",
    "                if counter%1000==0:\n",
    "                    write(token_embeddings, missing)\n",
    "                token_embeddings[word] = vector.cpu()\n",
    "        except KeyboardInterrupt:\n",
    "            print(\"Interupted\")\n",
    "            break\n",
    "        except:\n",
    "            missing.append(word)\n",
    "            print(word)\n",
    "        counter+=1\n",
    "write(token_embeddings, missing)"
   ]
  },
  {
   "cell_type": "code",
   "execution_count": 11,
   "metadata": {},
   "outputs": [],
   "source": [
    "with open('datasets/embeddings.pickle', 'rb') as handle:\n",
    "    token_embeddings = pickle.load(handle)"
   ]
  },
  {
   "cell_type": "code",
   "execution_count": 8,
   "metadata": {},
   "outputs": [],
   "source": [
    "voc = {\n",
    "    \"<PAD>\":0,\n",
    "    \"<UNK>\":1,\n",
    "}\n",
    "vocab = Vocab(words, vocabulary = voc)"
   ]
  },
  {
   "cell_type": "code",
   "execution_count": 16,
   "metadata": {},
   "outputs": [
    {
     "data": {
      "text/plain": [
       "{'<PAD>': 0,\n",
       " '<UNK>': 1,\n",
       " 'the': 2,\n",
       " ',': 3,\n",
       " '.': 4,\n",
       " 'to': 5,\n",
       " 'of': 6,\n",
       " 'and': 7,\n",
       " 'in': 8,\n",
       " 'a': 9,\n",
       " 'that': 10,\n",
       " '’': 11,\n",
       " 's': 12,\n",
       " 'is': 13,\n",
       " '“': 14,\n",
       " '”': 15,\n",
       " '-': 16,\n",
       " 'for': 17,\n",
       " 'it': 18,\n",
       " 'on': 19,\n",
       " 'was': 20,\n",
       " 'he': 21,\n",
       " 'with': 22,\n",
       " 'as': 23,\n",
       " 'this': 24,\n",
       " 'be': 25,\n",
       " 'by': 26,\n",
       " 'not': 27,\n",
       " 'his': 28,\n",
       " 'have': 29,\n",
       " 'are': 30,\n",
       " '##s': 31,\n",
       " ':': 32,\n",
       " 'has': 33,\n",
       " 'i': 34,\n",
       " 'from': 35,\n",
       " 'at': 36,\n",
       " 'they': 37,\n",
       " 'who': 38,\n",
       " \"'\": 39,\n",
       " 'an': 40,\n",
       " 'said': 41,\n",
       " '\"': 42,\n",
       " 'but': 43,\n",
       " 'we': 44,\n",
       " 'you': 45,\n",
       " '?': 46,\n",
       " 't': 47,\n",
       " 'will': 48,\n",
       " 'trump': 49,\n",
       " 'or': 50,\n",
       " 'had': 51,\n",
       " ')': 52,\n",
       " '(': 53,\n",
       " 'all': 54,\n",
       " 'were': 55,\n",
       " 'about': 56,\n",
       " 'their': 57,\n",
       " 'what': 58,\n",
       " 'one': 59,\n",
       " 'which': 60,\n",
       " 'been': 61,\n",
       " 'no': 62,\n",
       " 'our': 63,\n",
       " 'out': 64,\n",
       " 'there': 65,\n",
       " 'if': 66,\n",
       " '—': 67,\n",
       " 'would': 68,\n",
       " 'so': 69,\n",
       " 'people': 70,\n",
       " 'do': 71,\n",
       " 'also': 72,\n",
       " 'she': 73,\n",
       " 'when': 74,\n",
       " 'after': 75,\n",
       " 'up': 76,\n",
       " 'her': 77,\n",
       " 'more': 78,\n",
       " 'should': 79,\n",
       " 'us': 80,\n",
       " 'can': 81,\n",
       " 'president': 82,\n",
       " 'him': 83,\n",
       " 'church': 84,\n",
       " 'now': 85,\n",
       " 'them': 86,\n",
       " 'over': 87,\n",
       " 'its': 88,\n",
       " 'u': 89,\n",
       " 'new': 90,\n",
       " 'pope': 91,\n",
       " '–': 92,\n",
       " 'against': 93,\n",
       " 'any': 94,\n",
       " 'other': 95,\n",
       " 'time': 96,\n",
       " 'only': 97,\n",
       " 'into': 98,\n",
       " 'even': 99,\n",
       " 'because': 100,\n",
       " 'may': 101,\n",
       " 'just': 102,\n",
       " 'ka': 103,\n",
       " 'than': 104,\n",
       " '##ing': 105,\n",
       " '##ly': 106,\n",
       " '/': 107,\n",
       " 'house': 108,\n",
       " 'my': 109,\n",
       " 'those': 110,\n",
       " 'like': 111,\n",
       " 'years': 112,\n",
       " 'these': 113,\n",
       " 'state': 114,\n",
       " 'did': 115,\n",
       " 'some': 116,\n",
       " 'being': 117,\n",
       " '##ed': 118,\n",
       " 'how': 119,\n",
       " 'told': 120,\n",
       " 'two': 121,\n",
       " 'before': 122,\n",
       " 'first': 123,\n",
       " 'report': 124,\n",
       " '##ugh': 125,\n",
       " 'could': 126,\n",
       " '##vana': 127,\n",
       " 'me': 128,\n",
       " 'many': 129,\n",
       " 'then': 130,\n",
       " 'iran': 131,\n",
       " 'most': 132,\n",
       " '[': 133,\n",
       " ']': 134,\n",
       " 'police': 135,\n",
       " 'public': 136,\n",
       " 'know': 137,\n",
       " 'very': 138,\n",
       " 'white': 139,\n",
       " '!': 140,\n",
       " 'news': 141,\n",
       " 'government': 142,\n",
       " 'american': 143,\n",
       " 'while': 144,\n",
       " 'law': 145,\n",
       " 'media': 146,\n",
       " 'made': 147,\n",
       " 'year': 148,\n",
       " '##er': 149,\n",
       " 'why': 150,\n",
       " 'far': 151,\n",
       " 'man': 152,\n",
       " 'francis': 153,\n",
       " 'well': 154,\n",
       " 'court': 155,\n",
       " 'right': 156,\n",
       " 'clinton': 157,\n",
       " '##t': 158,\n",
       " 'back': 159,\n",
       " 'un': 160,\n",
       " 'fbi': 161,\n",
       " '…': 162,\n",
       " '*': 163,\n",
       " 'world': 164,\n",
       " 'obama': 165,\n",
       " 're': 166,\n",
       " 'left': 167,\n",
       " 'states': 168,\n",
       " 'case': 169,\n",
       " 'take': 170,\n",
       " 'cardinal': 171,\n",
       " ';': 172,\n",
       " 'say': 173,\n",
       " 'see': 174,\n",
       " '‘': 175,\n",
       " 'under': 176,\n",
       " 'during': 177,\n",
       " 'investigation': 178,\n",
       " 'last': 179,\n",
       " 'don': 180,\n",
       " 'according': 181,\n",
       " 'free': 182,\n",
       " 'story': 183,\n",
       " 'where': 184,\n",
       " 'god': 185,\n",
       " 'go': 186,\n",
       " '##a': 187,\n",
       " 'such': 188,\n",
       " 'press': 189,\n",
       " 'get': 190,\n",
       " 'gun': 191,\n",
       " 'catholic': 192,\n",
       " 'way': 193,\n",
       " '##r': 194,\n",
       " 'former': 195,\n",
       " 'united': 196,\n",
       " 'evidence': 197,\n",
       " 'fact': 198,\n",
       " 'must': 199,\n",
       " 'life': 200,\n",
       " 'department': 201,\n",
       " 'never': 202,\n",
       " 'email': 203,\n",
       " '##d': 204,\n",
       " 'going': 205,\n",
       " 'here': 206,\n",
       " 'come': 207,\n",
       " '##y': 208,\n",
       " 'abuse': 209,\n",
       " '1': 210,\n",
       " 'judge': 211,\n",
       " 'another': 212,\n",
       " 'same': 213,\n",
       " 'still': 214,\n",
       " 'country': 215,\n",
       " 'make': 216,\n",
       " 'both': 217,\n",
       " 'day': 218,\n",
       " 'does': 219,\n",
       " 'poll': 220,\n",
       " 'administration': 221,\n",
       " 'since': 222,\n",
       " 'order': 223,\n",
       " 'bishops': 224,\n",
       " 'cia': 225,\n",
       " 'own': 226,\n",
       " 'part': 227,\n",
       " 'anti': 228,\n",
       " 'con': 229,\n",
       " '##o': 230,\n",
       " 'think': 231,\n",
       " 'security': 232,\n",
       " 'good': 233,\n",
       " 'federal': 234,\n",
       " 'including': 235,\n",
       " 'russia': 236,\n",
       " '2018': 237,\n",
       " 'your': 238,\n",
       " 'policy': 239,\n",
       " 'information': 240,\n",
       " 'without': 241,\n",
       " 'military': 242,\n",
       " 'says': 243,\n",
       " '##han': 244,\n",
       " 'justice': 245,\n",
       " 'want': 246,\n",
       " '##an': 247,\n",
       " 'shooting': 248,\n",
       " 'called': 249,\n",
       " 'election': 250,\n",
       " 'attorney': 251,\n",
       " 'much': 252,\n",
       " 'officials': 253,\n",
       " 'america': 254,\n",
       " 'mcc': 255,\n",
       " 'reported': 256,\n",
       " '_': 257,\n",
       " 'down': 258,\n",
       " 'border': 259,\n",
       " 'article': 260,\n",
       " 'ass': 261,\n",
       " '##ar': 262,\n",
       " 'through': 263,\n",
       " 'general': 264,\n",
       " 'long': 265,\n",
       " 'letter': 266,\n",
       " 'washington': 267,\n",
       " 'war': 268,\n",
       " 'e': 269,\n",
       " 'islam': 270,\n",
       " 'jihad': 271,\n",
       " 'national': 272,\n",
       " 'access': 273,\n",
       " 'john': 274,\n",
       " 'men': 275,\n",
       " 'office': 276,\n",
       " 'campaign': 277,\n",
       " 'between': 278,\n",
       " 'deal': 279,\n",
       " 'today': 280,\n",
       " 'three': 281,\n",
       " '##g': 282,\n",
       " 'use': 283,\n",
       " 'statement': 284,\n",
       " 'nuclear': 285,\n",
       " 'muslim': 286,\n",
       " 'saying': 287,\n",
       " '@': 288,\n",
       " 'ford': 289,\n",
       " 'used': 290,\n",
       " '##rick': 291,\n",
       " 'support': 292,\n",
       " 'history': 293,\n",
       " 'm': 294,\n",
       " 'freedom': 295,\n",
       " 'ac': 296,\n",
       " 'sexual': 297,\n",
       " '2': 298,\n",
       " '##osta': 299,\n",
       " 'democrat': 300,\n",
       " 'every': 301,\n",
       " 'believe': 302,\n",
       " 'end': 303,\n",
       " 'democratic': 304,\n",
       " 'sc': 305,\n",
       " 'himself': 306,\n",
       " 'place': 307,\n",
       " '##is': 308,\n",
       " 'continues': 309,\n",
       " 'death': 310,\n",
       " 'party': 311,\n",
       " 'charge': 312,\n",
       " 'person': 313,\n",
       " '##i': 314,\n",
       " 'found': 315,\n",
       " 'confirmed': 316,\n",
       " '##ange': 317,\n",
       " '000': 318,\n",
       " 'home': 319,\n",
       " 'old': 320,\n",
       " 'illegal': 321,\n",
       " 'stop': 322,\n",
       " 'criminal': 323,\n",
       " 'political': 324,\n",
       " 'd': 325,\n",
       " 'work': 326,\n",
       " 'clear': 327,\n",
       " 'ex': 328,\n",
       " 'com': 329,\n",
       " 'vatican': 330,\n",
       " 'wrote': 331,\n",
       " 'ellison': 332,\n",
       " 'however': 333,\n",
       " 'power': 334,\n",
       " 'nothing': 335,\n",
       " 'st': 336,\n",
       " 'week': 337,\n",
       " 'given': 338,\n",
       " 'bishop': 339,\n",
       " 'keep': 340,\n",
       " 'terms': 341,\n",
       " 'supreme': 342,\n",
       " 'truth': 343,\n",
       " '$': 344,\n",
       " 'israel': 345,\n",
       " 'school': 346,\n",
       " '2016': 347,\n",
       " 'congress': 348,\n",
       " 'regime': 349,\n",
       " 'didn': 350,\n",
       " 'already': 351,\n",
       " 'whether': 352,\n",
       " 'times': 353,\n",
       " 'vegas': 354,\n",
       " 'members': 355,\n",
       " 'homosexual': 356,\n",
       " 'mueller': 357,\n",
       " 'ever': 358,\n",
       " 'immigration': 359,\n",
       " 'islamic': 360,\n",
       " 'pad': 361,\n",
       " '##dock': 362,\n",
       " 'donald': 363,\n",
       " 'democrats': 364,\n",
       " 'released': 365,\n",
       " 'committee': 366,\n",
       " 'continue': 367,\n",
       " 'las': 368,\n",
       " 'whom': 369,\n",
       " 'off': 370,\n",
       " 'pass': 371,\n",
       " '##j': 372,\n",
       " '##rak': 373,\n",
       " 'agree': 374,\n",
       " 'site': 375,\n",
       " '##wee': 376,\n",
       " 'call': 377,\n",
       " '##e': 378,\n",
       " 'group': 379,\n",
       " 'di': 380,\n",
       " 'again': 381,\n",
       " '%': 382,\n",
       " 'below': 383,\n",
       " 'council': 384,\n",
       " 'name': 385,\n",
       " 'b': 386,\n",
       " 'course': 387,\n",
       " 'senate': 388,\n",
       " 'question': 389,\n",
       " 'russian': 390,\n",
       " 'twitter': 391,\n",
       " 'co': 392,\n",
       " 'am': 393,\n",
       " 'days': 394,\n",
       " 'need': 395,\n",
       " 'official': 396,\n",
       " 'done': 397,\n",
       " 'known': 398,\n",
       " '##n': 399,\n",
       " 'children': 400,\n",
       " 'authorities': 401,\n",
       " 'something': 402,\n",
       " '3': 403,\n",
       " 'put': 404,\n",
       " 'jewish': 405,\n",
       " 'change': 406,\n",
       " 'vote': 407,\n",
       " 'force': 408,\n",
       " 'control': 409,\n",
       " 'cnn': 410,\n",
       " 'claims': 411,\n",
       " 'yet': 412,\n",
       " 'cases': 413,\n",
       " 'attack': 414,\n",
       " 'barr': 415,\n",
       " 'came': 416,\n",
       " 'j': 417,\n",
       " 'video': 418,\n",
       " 'reports': 419,\n",
       " 'later': 420,\n",
       " 'victims': 421,\n",
       " '2017': 422,\n",
       " '11': 423,\n",
       " 'high': 424,\n",
       " 'north': 425,\n",
       " 'next': 426,\n",
       " 'others': 427,\n",
       " 'secretary': 428,\n",
       " 'took': 429,\n",
       " '##ted': 430,\n",
       " '##p': 431,\n",
       " '##um': 432,\n",
       " 'too': 433,\n",
       " 'give': 434,\n",
       " 've': 435,\n",
       " 'asked': 436,\n",
       " 'great': 437,\n",
       " 'mass': 438,\n",
       " 'archbishop': 439,\n",
       " '##og': 440,\n",
       " 'until': 441,\n",
       " 'n': 442,\n",
       " 'posted': 443,\n",
       " 'paul': 444,\n",
       " 'facebook': 445,\n",
       " 'berg': 446,\n",
       " 'field': 447,\n",
       " 'point': 448,\n",
       " '5': 449,\n",
       " 'post': 450,\n",
       " 'rep': 451,\n",
       " 'religious': 452,\n",
       " '9': 453,\n",
       " 'ago': 454,\n",
       " 'things': 455,\n",
       " 'corrupt': 456,\n",
       " 'priests': 457,\n",
       " 'real': 458,\n",
       " 'mr': 459,\n",
       " 'outbreak': 460,\n",
       " 'vi': 461,\n",
       " 'documents': 462,\n",
       " 'cannot': 463,\n",
       " 'doing': 464,\n",
       " 'secret': 465,\n",
       " '##es': 466,\n",
       " 'let': 467,\n",
       " '##l': 468,\n",
       " 'might': 469,\n",
       " 'defense': 470,\n",
       " 'least': 471,\n",
       " 'following': 472,\n",
       " 'consider': 473,\n",
       " 'officers': 474,\n",
       " 'director': 475,\n",
       " 'ambassador': 476,\n",
       " 'added': 477,\n",
       " 'taking': 478,\n",
       " '##h': 479,\n",
       " 'month': 480,\n",
       " 'brett': 481,\n",
       " 'among': 482,\n",
       " 'faith': 483,\n",
       " 'hillary': 484,\n",
       " 'taken': 485,\n",
       " 'around': 486,\n",
       " 'privacy': 487,\n",
       " 'iranian': 488,\n",
       " 'enforcement': 489,\n",
       " 'holy': 490,\n",
       " 'thought': 491,\n",
       " 'special': 492,\n",
       " 'number': 493,\n",
       " 'become': 494,\n",
       " 'actually': 495,\n",
       " 'health': 496,\n",
       " '##tion': 497,\n",
       " 'mexico': 498,\n",
       " '##ki': 499,\n",
       " 'allegations': 500,\n",
       " 'matter': 501,\n",
       " 'cover': 502,\n",
       " 'few': 503,\n",
       " 'true': 504,\n",
       " 'women': 505,\n",
       " '##lea': 506,\n",
       " 'sent': 507,\n",
       " 'purposes': 508,\n",
       " 'second': 509,\n",
       " '#': 510,\n",
       " 'ask': 511,\n",
       " 'due': 512,\n",
       " '##lio': 513,\n",
       " 'making': 514,\n",
       " 'possible': 515,\n",
       " 'went': 516,\n",
       " '##re': 517,\n",
       " 'help': 518,\n",
       " 'woman': 519,\n",
       " 'within': 520,\n",
       " 'show': 521,\n",
       " 'al': 522,\n",
       " 'young': 523,\n",
       " 'set': 524,\n",
       " '4': 525,\n",
       " 'family': 526,\n",
       " 'really': 527,\n",
       " 'simply': 528,\n",
       " '##ers': 529,\n",
       " 'grants': 530,\n",
       " 'anytime': 531,\n",
       " '##ist': 532,\n",
       " 'friday': 533,\n",
       " 'de': 534,\n",
       " 'nation': 535,\n",
       " 'jews': 536,\n",
       " 'updates': 537,\n",
       " 'further': 538,\n",
       " 'per': 539,\n",
       " 'legal': 540,\n",
       " 'haley': 541,\n",
       " 'away': 542,\n",
       " 'despite': 543,\n",
       " '##al': 544,\n",
       " 'powell': 545,\n",
       " 'foreign': 546,\n",
       " 'several': 547,\n",
       " 'opt': 548,\n",
       " 'page': 549,\n",
       " 'san': 550,\n",
       " 'though': 551,\n",
       " 'wednesday': 552,\n",
       " 'seen': 553,\n",
       " 'thing': 554,\n",
       " 'decision': 555,\n",
       " 'having': 556,\n",
       " 'instead': 557,\n",
       " 'coming': 558,\n",
       " 'community': 559,\n",
       " 'completing': 560,\n",
       " 'guardian': 561,\n",
       " 'guy': 562,\n",
       " 'months': 563,\n",
       " 'tuesday': 564,\n",
       " 'five': 565,\n",
       " 'intelligence': 566,\n",
       " 'unchanged': 567,\n",
       " 'plague': 568,\n",
       " 'happened': 569,\n",
       " 'monday': 570,\n",
       " 'wanted': 571,\n",
       " 'wi': 572,\n",
       " 'act': 573,\n",
       " 'validation': 574,\n",
       " 'records': 575,\n",
       " 'ice': 576,\n",
       " 'staff': 577,\n",
       " 'october': 578,\n",
       " '6': 579,\n",
       " 'syria': 580,\n",
       " 'four': 581,\n",
       " 'charges': 582,\n",
       " 'knew': 583,\n",
       " 'za': 584,\n",
       " 'working': 585,\n",
       " 'arrested': 586,\n",
       " 'claim': 587,\n",
       " 'k': 588,\n",
       " '##ks': 589,\n",
       " 'close': 590,\n",
       " 'jim': 591,\n",
       " 'questions': 592,\n",
       " 'florida': 593,\n",
       " 'city': 594,\n",
       " 'trying': 595,\n",
       " 'release': 596,\n",
       " 'wrong': 597,\n",
       " 'replace': 598,\n",
       " '##mp': 599,\n",
       " 'west': 600,\n",
       " '10': 601,\n",
       " 'themselves': 602,\n",
       " 'faithful': 603,\n",
       " 'benedict': 604,\n",
       " 'violence': 605,\n",
       " 'member': 606,\n",
       " 'process': 607,\n",
       " 'full': 608,\n",
       " 'published': 609,\n",
       " 'dr': 610,\n",
       " 'father': 611,\n",
       " 'incident': 612,\n",
       " 'important': 613,\n",
       " 'gave': 614,\n",
       " 'christ': 615,\n",
       " 'ho': 616,\n",
       " 'ms': 617,\n",
       " 'issue': 618,\n",
       " 'details': 619,\n",
       " 'hand': 620,\n",
       " 'recent': 621,\n",
       " 'look': 622,\n",
       " 'outpost': 623,\n",
       " '##en': 624,\n",
       " '##ger': 625,\n",
       " '30': 626,\n",
       " 'meeting': 627,\n",
       " 'find': 628,\n",
       " 'response': 629,\n",
       " '7': 630,\n",
       " 'anyone': 631,\n",
       " 'past': 632,\n",
       " 'assault': 633,\n",
       " 'someone': 634,\n",
       " '##stein': 635,\n",
       " 'yes': 636,\n",
       " 'muslims': 637,\n",
       " 'hai': 638,\n",
       " 'top': 639,\n",
       " 'alleged': 640,\n",
       " '##z': 641,\n",
       " 'accused': 642,\n",
       " 'situation': 643,\n",
       " 'gill': 644,\n",
       " 'sure': 645,\n",
       " 'permission': 646,\n",
       " 'robert': 647,\n",
       " 'system': 648,\n",
       " 'korea': 649,\n",
       " 'nikki': 650,\n",
       " 'p': 651,\n",
       " 'head': 652,\n",
       " '##ic': 653,\n",
       " 'fox': 654,\n",
       " '2015': 655,\n",
       " 'sin': 656,\n",
       " 'rather': 657,\n",
       " 'different': 658,\n",
       " 'doesn': 659,\n",
       " 'black': 660,\n",
       " 'crime': 661,\n",
       " 'rights': 662,\n",
       " 'along': 663,\n",
       " 'federation': 664,\n",
       " 'julian': 665,\n",
       " 'little': 666,\n",
       " 'seems': 667,\n",
       " '##os': 668,\n",
       " 'killed': 669,\n",
       " 'involved': 670,\n",
       " 'based': 671,\n",
       " 'november': 672,\n",
       " 'action': 673,\n",
       " 'best': 674,\n",
       " 'non': 675,\n",
       " '##bola': 676,\n",
       " '##us': 677,\n",
       " 'caravan': 678,\n",
       " 'speech': 679,\n",
       " 'pro': 680,\n",
       " '##v': 681,\n",
       " 'child': 682,\n",
       " 'politician': 683,\n",
       " 'face': 684,\n",
       " 'night': 685,\n",
       " 'actions': 686,\n",
       " 'authority': 687,\n",
       " 'conference': 688,\n",
       " 'million': 689,\n",
       " 'kind': 690,\n",
       " '##c': 691,\n",
       " 'republican': 692,\n",
       " '##ne': 693,\n",
       " 'means': 694,\n",
       " 'whose': 695,\n",
       " '##b': 696,\n",
       " 'book': 697,\n",
       " 'leader': 698,\n",
       " '##ha': 699,\n",
       " 'crimes': 700,\n",
       " 'pre': 701,\n",
       " 'testimony': 702,\n",
       " 'hearing': 703,\n",
       " 'big': 704,\n",
       " 'gr': 705,\n",
       " '##ism': 706,\n",
       " 'victim': 707,\n",
       " '##fi': 708,\n",
       " 'o': 709,\n",
       " 'behavior': 710,\n",
       " 'po': 711,\n",
       " 'anything': 712,\n",
       " 'continued': 713,\n",
       " 'read': 714,\n",
       " 'commission': 715,\n",
       " 'document': 716,\n",
       " 'google': 717,\n",
       " 'money': 718,\n",
       " 'mis': 719,\n",
       " 'likely': 720,\n",
       " 'got': 721,\n",
       " '##te': 722,\n",
       " 'clearly': 723,\n",
       " 'upon': 724,\n",
       " 'students': 725,\n",
       " 'gotten': 726,\n",
       " 'received': 727,\n",
       " 'reason': 728,\n",
       " 'interview': 729,\n",
       " '##f': 730,\n",
       " 'daily': 731,\n",
       " 'migrants': 732,\n",
       " 'once': 733,\n",
       " 'county': 734,\n",
       " '##le': 735,\n",
       " 'september': 736,\n",
       " '##m': 737,\n",
       " '##eo': 738,\n",
       " 'americans': 739,\n",
       " 'priest': 740,\n",
       " 'counsel': 741,\n",
       " 'problem': 742,\n",
       " 'officer': 743,\n",
       " 'neo': 744,\n",
       " 'hard': 745,\n",
       " 'murder': 746,\n",
       " 'fire': 747,\n",
       " 'sanctions': 748,\n",
       " 'assassination': 749,\n",
       " '##pl': 750,\n",
       " 'human': 751,\n",
       " 'laws': 752,\n",
       " 'words': 753,\n",
       " 'thursday': 754,\n",
       " '##man': 755,\n",
       " 'la': 756,\n",
       " 'york': 757,\n",
       " '##ful': 758,\n",
       " 'comes': 759,\n",
       " 'efforts': 760,\n",
       " 'amendment': 761,\n",
       " 'room': 762,\n",
       " '##gano': 763,\n",
       " 'began': 764,\n",
       " 'serious': 765,\n",
       " 'whole': 766,\n",
       " 'position': 767,\n",
       " 'shot': 768,\n",
       " 'evil': 769,\n",
       " 'event': 770,\n",
       " 'tell': 771,\n",
       " 'constitution': 772,\n",
       " 'source': 773,\n",
       " '##li': 774,\n",
       " 'mana': 775,\n",
       " '##fort': 776,\n",
       " 'society': 777,\n",
       " 'global': 778,\n",
       " 'allowed': 779,\n",
       " 'immediately': 780,\n",
       " 'seminar': 781,\n",
       " 'social': 782,\n",
       " 'indeed': 783,\n",
       " 'enough': 784,\n",
       " 'always': 785,\n",
       " 'organization': 786,\n",
       " 'guns': 787,\n",
       " 'isn': 788,\n",
       " 'attacks': 789,\n",
       " 'forward': 790,\n",
       " 'europe': 791,\n",
       " 'senator': 792,\n",
       " 'china': 793,\n",
       " 'aw': 794,\n",
       " 'itself': 795,\n",
       " 'mu': 796,\n",
       " 'perhaps': 797,\n",
       " 'countries': 798,\n",
       " 'teaching': 799,\n",
       " 'claimed': 800,\n",
       " 'af': 801,\n",
       " 'everything': 802,\n",
       " '15': 803,\n",
       " 'earlier': 804,\n",
       " 'disease': 805,\n",
       " 'issued': 806,\n",
       " 'en': 807,\n",
       " 'calling': 808,\n",
       " 'six': 809,\n",
       " 'age': 810,\n",
       " 'saudi': 811,\n",
       " 'orb': 812,\n",
       " 'groups': 813,\n",
       " '##able': 814,\n",
       " 'toward': 815,\n",
       " 'search': 816,\n",
       " 'sex': 817,\n",
       " 'able': 818,\n",
       " 'false': 819,\n",
       " 'foundation': 820,\n",
       " 'fired': 821,\n",
       " 'fein': 822,\n",
       " 'either': 823,\n",
       " 'weapons': 824,\n",
       " 'dec': 825,\n",
       " '##ran': 826,\n",
       " '##ble': 827,\n",
       " 'lives': 828,\n",
       " 'outside': 829,\n",
       " 'chief': 830,\n",
       " 'previously': 831,\n",
       " '##ness': 832,\n",
       " 'personal': 833,\n",
       " 'provide': 834,\n",
       " 'less': 835,\n",
       " '##ity': 836,\n",
       " 'comments': 837,\n",
       " 'warrant': 838,\n",
       " 'move': 839,\n",
       " 'compound': 840,\n",
       " 'smith': 841,\n",
       " 'held': 842,\n",
       " 'team': 843,\n",
       " 'major': 844,\n",
       " 'certainly': 845,\n",
       " 'university': 846,\n",
       " 'aliens': 847,\n",
       " 'example': 848,\n",
       " 'jean': 849,\n",
       " 'committed': 850,\n",
       " 'scandal': 851,\n",
       " 'present': 852,\n",
       " 'nun': 853,\n",
       " '##ment': 854,\n",
       " 'sha': 855,\n",
       " 'operation': 856,\n",
       " 'peter': 857,\n",
       " '##ion': 858,\n",
       " 'll': 859,\n",
       " 'mind': 860,\n",
       " 'air': 861,\n",
       " 'threat': 862,\n",
       " '12': 863,\n",
       " 'inc': 864,\n",
       " 'embassy': 865,\n",
       " 'district': 866,\n",
       " '16': 867,\n",
       " 'christian': 868,\n",
       " 'weeks': 869,\n",
       " 'protect': 870,\n",
       " '50': 871,\n",
       " 'led': 872,\n",
       " 'g': 873,\n",
       " 'fight': 874,\n",
       " 'recently': 875,\n",
       " 'tried': 876,\n",
       " 'im': 877,\n",
       " 'crisis': 878,\n",
       " 'idea': 879,\n",
       " 'lot': 880,\n",
       " 'apparently': 881,\n",
       " 'soon': 882,\n",
       " 'ap': 883,\n",
       " 'decades': 884,\n",
       " 'sign': 885,\n",
       " 'light': 886,\n",
       " 'july': 887,\n",
       " '##ti': 888,\n",
       " 'attempt': 889,\n",
       " '20': 890,\n",
       " 'each': 891,\n",
       " 'ab': 892,\n",
       " 'hate': 893,\n",
       " 'investigators': 894,\n",
       " 'sub': 895,\n",
       " '8': 896,\n",
       " 'heard': 897,\n",
       " 'ammunition': 898,\n",
       " 'met': 899,\n",
       " 'immigrants': 900,\n",
       " '##k': 901,\n",
       " 'middle': 902,\n",
       " 'schools': 903,\n",
       " '##ut': 904,\n",
       " 'ban': 905,\n",
       " 'front': 906,\n",
       " 'regarding': 907,\n",
       " 'entire': 908,\n",
       " 'agency': 909,\n",
       " 'pic': 910,\n",
       " 'latest': 911,\n",
       " '13': 912,\n",
       " 'spread': 913,\n",
       " 'keith': 914,\n",
       " 'rec': 915,\n",
       " 'finally': 916,\n",
       " 'local': 917,\n",
       " 'rome': 918,\n",
       " 'prison': 919,\n",
       " 'living': 920,\n",
       " 'bring': 921,\n",
       " 'prior': 922,\n",
       " 'longer': 923,\n",
       " 'role': 924,\n",
       " 'often': 925,\n",
       " 'muhammad': 926,\n",
       " 'wasn': 927,\n",
       " 'hope': 928,\n",
       " 'care': 929,\n",
       " 'ii': 930,\n",
       " 'guilty': 931,\n",
       " 'uranium': 932,\n",
       " 'future': 933,\n",
       " 'bill': 934,\n",
       " 'key': 935,\n",
       " '##ies': 936,\n",
       " 'described': 937,\n",
       " '##ry': 938,\n",
       " 'word': 939,\n",
       " 'using': 940,\n",
       " 'failed': 941,\n",
       " 'imp': 942,\n",
       " 'nor': 943,\n",
       " 'fa': 944,\n",
       " 'december': 945,\n",
       " 'voters': 946,\n",
       " 'synod': 947,\n",
       " 'religion': 948,\n",
       " 'thus': 949,\n",
       " 'col': 950,\n",
       " 'bush': 951,\n",
       " 'sa': 952,\n",
       " 'cause': 953,\n",
       " '&': 954,\n",
       " 'cr': 955,\n",
       " 'catholics': 956,\n",
       " 'lawyer': 957,\n",
       " 'refused': 958,\n",
       " 'march': 959,\n",
       " 'lawsuit': 960,\n",
       " 'result': 961,\n",
       " 'born': 962,\n",
       " 'plan': 963,\n",
       " 'allow': 964,\n",
       " 'red': 965,\n",
       " 'remain': 966,\n",
       " '2013': 967,\n",
       " 'remember': 968,\n",
       " 'mainstream': 969,\n",
       " 'phone': 970,\n",
       " 'almost': 971,\n",
       " '##ni': 972,\n",
       " 'attention': 973,\n",
       " 'stand': 974,\n",
       " 'uk': 975,\n",
       " 'job': 976,\n",
       " 'above': 977,\n",
       " 'publicly': 978,\n",
       " 'note': 979,\n",
       " 'open': 980,\n",
       " 'makes': 981,\n",
       " 'lord': 982,\n",
       " 'monastery': 983,\n",
       " 'conservative': 984,\n",
       " 'asking': 985,\n",
       " 'talk': 986,\n",
       " 'won': 987,\n",
       " 'conspiracy': 988,\n",
       " '##ler': 989,\n",
       " 'em': 990,\n",
       " 'current': 991,\n",
       " 'especially': 992,\n",
       " 'ordered': 993,\n",
       " 'isis': 994,\n",
       " 'behind': 995,\n",
       " 'w': 996,\n",
       " 'apartment': 997,\n",
       " 'certain': 998,\n",
       " 'follow': 999,\n",
       " ...}"
      ]
     },
     "execution_count": 16,
     "metadata": {},
     "output_type": "execute_result"
    }
   ],
   "source": [
    "vocab.vocabulary"
   ]
  },
  {
   "cell_type": "code",
   "execution_count": 13,
   "metadata": {},
   "outputs": [],
   "source": [
    "def generate_embedding_matrix(vocab, token_embeddings):\n",
    "    lenght = len(vocab.vocabulary)\n",
    "    embeddings = np.random.normal(0, 1, (lenght, len(token_embeddings[\"the\"])))\n",
    "    for i in vocab.vocabulary:\n",
    "        if i in token_embeddings:\n",
    "            values = token_embeddings[i]\n",
    "            if len(values)!=0:\n",
    "                embeddings[vocab.vocabulary[i],:] = values\n",
    "    return embeddings"
   ]
  },
  {
   "cell_type": "code",
   "execution_count": 14,
   "metadata": {},
   "outputs": [],
   "source": [
    "weights = generate_embedding_matrix(vocab, token_embeddings)"
   ]
  },
  {
   "cell_type": "code",
   "execution_count": 16,
   "metadata": {},
   "outputs": [],
   "source": [
    "with open('datasets/weights.pickle', 'wb') as handle:\n",
    "    pickle.dump(weights, handle, protocol=pickle.HIGHEST_PROTOCOL)"
   ]
  },
  {
   "cell_type": "code",
   "execution_count": 10,
   "metadata": {},
   "outputs": [],
   "source": [
    "with open('datasets/vocab.pickle', 'wb') as handle:\n",
    "    pickle.dump(vocab.vocabulary, handle, protocol=pickle.HIGHEST_PROTOCOL)"
   ]
  }
 ],
 "metadata": {
  "kernelspec": {
   "display_name": "Python 3",
   "language": "python",
   "name": "python3"
  },
  "language_info": {
   "codemirror_mode": {
    "name": "ipython",
    "version": 3
   },
   "file_extension": ".py",
   "mimetype": "text/x-python",
   "name": "python",
   "nbconvert_exporter": "python",
   "pygments_lexer": "ipython3",
   "version": "3.7.3"
  }
 },
 "nbformat": 4,
 "nbformat_minor": 2
}
